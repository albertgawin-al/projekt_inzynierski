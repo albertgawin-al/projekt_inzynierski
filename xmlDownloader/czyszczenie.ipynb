{
 "cells": [
  {
   "cell_type": "markdown",
   "metadata": {},
   "source": [
    "# Czyszczenie danych"
   ]
  },
  {
   "cell_type": "markdown",
   "metadata": {},
   "source": [
    "Przygotowanie funkcji czyszczącej."
   ]
  },
  {
   "cell_type": "code",
   "execution_count": 11,
   "metadata": {},
   "outputs": [],
   "source": [
    "def clean_string(text):\n",
    "\n",
    "    final_string = \"\"\n",
    "\n",
    "    # Make lower\n",
    "\n",
    "    text = text.lower()\n",
    "\n",
    "    # Remove line breaks\n",
    "\n",
    "    text = re.sub(r'\\n', '', text)\n",
    "\n",
    "    # Remove punctuation\n",
    "\n",
    "    translator = str.maketrans('', '', string.punctuation)\n",
    "    text = text.translate(translator)\n",
    "\n",
    "    # Remove stop words\n",
    "\n",
    "    text = text.split()\n",
    "    useless_words = nltk.corpus.stopwords.words(\"english\")\n",
    "\n",
    "    useless_words = useless_words\n",
    "    text_filtered = [word for word in text if not word in useless_words]\n",
    "\n",
    "    # Remove numbers\n",
    "\n",
    "    text_filtered = [re.sub(r'\\w*\\d\\w*', '', w) for w in text_filtered]\n",
    "\n",
    "    # Lemmatize\n",
    "    \n",
    "    text_filtered = nlp(' '.join(text_filtered))\n",
    "    text_stemmed = [y.lemma_ for y in text_filtered]\n",
    "\n",
    "    final_string = ' '.join(text_stemmed)\n",
    "\n",
    "\n",
    "    return final_string"
   ]
  },
  {
   "cell_type": "markdown",
   "metadata": {},
   "source": [
    "Czyszczenie abstraktów i zapisanie ich do folderu `clean_data`"
   ]
  },
  {
   "cell_type": "code",
   "execution_count": 32,
   "metadata": {},
   "outputs": [
    {
     "name": "stdout",
     "output_type": "stream",
     "text": [
      "Data loaded.\n"
     ]
    }
   ],
   "source": [
    "import os, re, string, csv, nltk, spacy\n",
    "import pandas as pd\n",
    "from nltk.corpus import stopwords\n",
    "from IPython.display import clear_output\n",
    "from tqdm import tqdm\n",
    "tqdm.pandas()\n",
    "\n",
    "nlp = spacy.load('en_core_web_sm')\n",
    "\n",
    "paths = os.listdir('data')\n",
    "\n",
    "for index, path in enumerate(paths):\n",
    "  print(f\"[{index+1}/{len(paths)}]\")\n",
    "\n",
    "  #wczytaj\n",
    "  articles = pd.read_csv(f'data/{path}', sep=';', quoting=csv.QUOTE_NONE)\n",
    "\n",
    "  #usuń puste i czyść\n",
    "  articles = articles.dropna().reset_index(drop=True)\n",
    "\n",
    "  keywords = ['tool', 'tools', 'device', 'devices', 'apparatus', 'apparatuses', 'appliance', 'appliances', 'engine', 'engines', 'gadget', 'gadgets']\n",
    "  pattern = '|'.join(keywords)\n",
    "\n",
    "  articles['abstract'] = articles['abstract'].astype(str)\n",
    "  toolArticles = articles[articles['abstract'].str.contains(pattern, regex=True)].reset_index(drop=True)\n",
    "  print(f\"Found {len(toolArticles)} tool articles.\")\n",
    "\n",
    "  toolArticles['clean_abstract'] = toolArticles['abstract'].progress_apply(lambda x: clean_string(x))\n",
    "\n",
    "  #dodaj\n",
    "  articles = pd.DataFrame({'pmid': toolArticles['pmid'], 'clean_abstract': toolArticles['clean_abstract']})\n",
    "  articles.to_csv(f'new_clean_data/clean_article{(index+1):04d}.csv', index=False)\n",
    "\n",
    "  clear_output(wait=True)\n",
    "\n",
    "print(\"Data loaded.\")"
   ]
  }
 ],
 "metadata": {
  "kernelspec": {
   "display_name": "env",
   "language": "python",
   "name": "python3"
  },
  "language_info": {
   "codemirror_mode": {
    "name": "ipython",
    "version": 3
   },
   "file_extension": ".py",
   "mimetype": "text/x-python",
   "name": "python",
   "nbconvert_exporter": "python",
   "pygments_lexer": "ipython3",
   "version": "3.10.7"
  }
 },
 "nbformat": 4,
 "nbformat_minor": 2
}
